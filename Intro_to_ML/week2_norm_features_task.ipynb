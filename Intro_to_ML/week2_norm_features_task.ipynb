{
  "nbformat": 4,
  "nbformat_minor": 0,
  "metadata": {
    "colab": {
      "name": "week2_norm_features_task.ipynb",
      "provenance": [],
      "collapsed_sections": [],
      "authorship_tag": "ABX9TyNHCzMHv6+nVyOrlkg3WnFz",
      "include_colab_link": true
    },
    "kernelspec": {
      "name": "python3",
      "display_name": "Python 3"
    }
  },
  "cells": [
    {
      "cell_type": "markdown",
      "metadata": {
        "id": "view-in-github",
        "colab_type": "text"
      },
      "source": [
        "<a href=\"https://colab.research.google.com/github/bernieee/COURSERA/blob/master/Intro_to_ML/week2_norm_features_task.ipynb\" target=\"_parent\"><img src=\"https://colab.research.google.com/assets/colab-badge.svg\" alt=\"Open In Colab\"/></a>"
      ]
    },
    {
      "cell_type": "code",
      "metadata": {
        "id": "f1xFRODJ3A-e",
        "colab_type": "code",
        "colab": {}
      },
      "source": [
        "import pandas as pd\n",
        "import numpy as np\n",
        "from sklearn.linear_model import Perceptron\n",
        "from sklearn.preprocessing import StandardScaler\n",
        "from sklearn.metrics import accuracy_score"
      ],
      "execution_count": 43,
      "outputs": []
    },
    {
      "cell_type": "code",
      "metadata": {
        "id": "19clTnXc12BV",
        "colab_type": "code",
        "colab": {
          "base_uri": "https://localhost:8080/",
          "height": 404
        },
        "outputId": "ac05ff8e-36ec-4ae3-c6dd-c06156ea699f"
      },
      "source": [
        "train_df = pd.read_csv('perceptron-train.csv', header=None)\n",
        "train_df"
      ],
      "execution_count": 10,
      "outputs": [
        {
          "output_type": "execute_result",
          "data": {
            "text/html": [
              "<div>\n",
              "<style scoped>\n",
              "    .dataframe tbody tr th:only-of-type {\n",
              "        vertical-align: middle;\n",
              "    }\n",
              "\n",
              "    .dataframe tbody tr th {\n",
              "        vertical-align: top;\n",
              "    }\n",
              "\n",
              "    .dataframe thead th {\n",
              "        text-align: right;\n",
              "    }\n",
              "</style>\n",
              "<table border=\"1\" class=\"dataframe\">\n",
              "  <thead>\n",
              "    <tr style=\"text-align: right;\">\n",
              "      <th></th>\n",
              "      <th>0</th>\n",
              "      <th>1</th>\n",
              "      <th>2</th>\n",
              "    </tr>\n",
              "  </thead>\n",
              "  <tbody>\n",
              "    <tr>\n",
              "      <th>0</th>\n",
              "      <td>-1.0</td>\n",
              "      <td>-0.024626</td>\n",
              "      <td>1174.600238</td>\n",
              "    </tr>\n",
              "    <tr>\n",
              "      <th>1</th>\n",
              "      <td>1.0</td>\n",
              "      <td>-0.978058</td>\n",
              "      <td>1083.198803</td>\n",
              "    </tr>\n",
              "    <tr>\n",
              "      <th>2</th>\n",
              "      <td>-1.0</td>\n",
              "      <td>0.314272</td>\n",
              "      <td>-1472.977609</td>\n",
              "    </tr>\n",
              "    <tr>\n",
              "      <th>3</th>\n",
              "      <td>-1.0</td>\n",
              "      <td>0.179752</td>\n",
              "      <td>231.017267</td>\n",
              "    </tr>\n",
              "    <tr>\n",
              "      <th>4</th>\n",
              "      <td>1.0</td>\n",
              "      <td>-1.262544</td>\n",
              "      <td>-778.271726</td>\n",
              "    </tr>\n",
              "    <tr>\n",
              "      <th>...</th>\n",
              "      <td>...</td>\n",
              "      <td>...</td>\n",
              "      <td>...</td>\n",
              "    </tr>\n",
              "    <tr>\n",
              "      <th>295</th>\n",
              "      <td>-1.0</td>\n",
              "      <td>-0.126438</td>\n",
              "      <td>1861.564124</td>\n",
              "    </tr>\n",
              "    <tr>\n",
              "      <th>296</th>\n",
              "      <td>-1.0</td>\n",
              "      <td>-0.490972</td>\n",
              "      <td>1815.652064</td>\n",
              "    </tr>\n",
              "    <tr>\n",
              "      <th>297</th>\n",
              "      <td>1.0</td>\n",
              "      <td>-0.375750</td>\n",
              "      <td>-314.074374</td>\n",
              "    </tr>\n",
              "    <tr>\n",
              "      <th>298</th>\n",
              "      <td>1.0</td>\n",
              "      <td>-1.861976</td>\n",
              "      <td>-1083.677679</td>\n",
              "    </tr>\n",
              "    <tr>\n",
              "      <th>299</th>\n",
              "      <td>1.0</td>\n",
              "      <td>-0.039329</td>\n",
              "      <td>-1863.884299</td>\n",
              "    </tr>\n",
              "  </tbody>\n",
              "</table>\n",
              "<p>300 rows × 3 columns</p>\n",
              "</div>"
            ],
            "text/plain": [
              "       0         1            2\n",
              "0   -1.0 -0.024626  1174.600238\n",
              "1    1.0 -0.978058  1083.198803\n",
              "2   -1.0  0.314272 -1472.977609\n",
              "3   -1.0  0.179752   231.017267\n",
              "4    1.0 -1.262544  -778.271726\n",
              "..   ...       ...          ...\n",
              "295 -1.0 -0.126438  1861.564124\n",
              "296 -1.0 -0.490972  1815.652064\n",
              "297  1.0 -0.375750  -314.074374\n",
              "298  1.0 -1.861976 -1083.677679\n",
              "299  1.0 -0.039329 -1863.884299\n",
              "\n",
              "[300 rows x 3 columns]"
            ]
          },
          "metadata": {
            "tags": []
          },
          "execution_count": 10
        }
      ]
    },
    {
      "cell_type": "code",
      "metadata": {
        "id": "-Zwg7DC13NNV",
        "colab_type": "code",
        "colab": {
          "base_uri": "https://localhost:8080/",
          "height": 404
        },
        "outputId": "d60db9cb-f65e-4ab7-8174-b407ae723200"
      },
      "source": [
        "test_df = pd.read_csv('perceptron-test.csv', header=None)\n",
        "test_df"
      ],
      "execution_count": 34,
      "outputs": [
        {
          "output_type": "execute_result",
          "data": {
            "text/html": [
              "<div>\n",
              "<style scoped>\n",
              "    .dataframe tbody tr th:only-of-type {\n",
              "        vertical-align: middle;\n",
              "    }\n",
              "\n",
              "    .dataframe tbody tr th {\n",
              "        vertical-align: top;\n",
              "    }\n",
              "\n",
              "    .dataframe thead th {\n",
              "        text-align: right;\n",
              "    }\n",
              "</style>\n",
              "<table border=\"1\" class=\"dataframe\">\n",
              "  <thead>\n",
              "    <tr style=\"text-align: right;\">\n",
              "      <th></th>\n",
              "      <th>0</th>\n",
              "      <th>1</th>\n",
              "      <th>2</th>\n",
              "    </tr>\n",
              "  </thead>\n",
              "  <tbody>\n",
              "    <tr>\n",
              "      <th>0</th>\n",
              "      <td>-1.0</td>\n",
              "      <td>1.651437</td>\n",
              "      <td>1337.453826</td>\n",
              "    </tr>\n",
              "    <tr>\n",
              "      <th>1</th>\n",
              "      <td>1.0</td>\n",
              "      <td>-0.866495</td>\n",
              "      <td>1191.232457</td>\n",
              "    </tr>\n",
              "    <tr>\n",
              "      <th>2</th>\n",
              "      <td>-1.0</td>\n",
              "      <td>0.789828</td>\n",
              "      <td>-475.647768</td>\n",
              "    </tr>\n",
              "    <tr>\n",
              "      <th>3</th>\n",
              "      <td>-1.0</td>\n",
              "      <td>0.179549</td>\n",
              "      <td>1959.095353</td>\n",
              "    </tr>\n",
              "    <tr>\n",
              "      <th>4</th>\n",
              "      <td>1.0</td>\n",
              "      <td>-0.434351</td>\n",
              "      <td>568.504207</td>\n",
              "    </tr>\n",
              "    <tr>\n",
              "      <th>...</th>\n",
              "      <td>...</td>\n",
              "      <td>...</td>\n",
              "      <td>...</td>\n",
              "    </tr>\n",
              "    <tr>\n",
              "      <th>195</th>\n",
              "      <td>-1.0</td>\n",
              "      <td>1.150206</td>\n",
              "      <td>2559.850231</td>\n",
              "    </tr>\n",
              "    <tr>\n",
              "      <th>196</th>\n",
              "      <td>1.0</td>\n",
              "      <td>-0.732462</td>\n",
              "      <td>159.748695</td>\n",
              "    </tr>\n",
              "    <tr>\n",
              "      <th>197</th>\n",
              "      <td>1.0</td>\n",
              "      <td>0.412912</td>\n",
              "      <td>-1587.206427</td>\n",
              "    </tr>\n",
              "    <tr>\n",
              "      <th>198</th>\n",
              "      <td>-1.0</td>\n",
              "      <td>-0.098685</td>\n",
              "      <td>682.034777</td>\n",
              "    </tr>\n",
              "    <tr>\n",
              "      <th>199</th>\n",
              "      <td>1.0</td>\n",
              "      <td>0.760949</td>\n",
              "      <td>-1577.448794</td>\n",
              "    </tr>\n",
              "  </tbody>\n",
              "</table>\n",
              "<p>200 rows × 3 columns</p>\n",
              "</div>"
            ],
            "text/plain": [
              "       0         1            2\n",
              "0   -1.0  1.651437  1337.453826\n",
              "1    1.0 -0.866495  1191.232457\n",
              "2   -1.0  0.789828  -475.647768\n",
              "3   -1.0  0.179549  1959.095353\n",
              "4    1.0 -0.434351   568.504207\n",
              "..   ...       ...          ...\n",
              "195 -1.0  1.150206  2559.850231\n",
              "196  1.0 -0.732462   159.748695\n",
              "197  1.0  0.412912 -1587.206427\n",
              "198 -1.0 -0.098685   682.034777\n",
              "199  1.0  0.760949 -1577.448794\n",
              "\n",
              "[200 rows x 3 columns]"
            ]
          },
          "metadata": {
            "tags": []
          },
          "execution_count": 34
        }
      ]
    },
    {
      "cell_type": "code",
      "metadata": {
        "id": "t-BZ057B5AHx",
        "colab_type": "code",
        "colab": {}
      },
      "source": [
        "train_x, train_y = np.array(train_df.drop([0], axis=1)), np.array(train_df[0])"
      ],
      "execution_count": 63,
      "outputs": []
    },
    {
      "cell_type": "code",
      "metadata": {
        "id": "SeBLF4A97szo",
        "colab_type": "code",
        "colab": {}
      },
      "source": [
        "test_x, test_y = np.array(test_df.drop([0], axis=1)), np.array(test_df[0])"
      ],
      "execution_count": 64,
      "outputs": []
    },
    {
      "cell_type": "code",
      "metadata": {
        "id": "VS1o3noG76fR",
        "colab_type": "code",
        "colab": {
          "base_uri": "https://localhost:8080/",
          "height": 34
        },
        "outputId": "d9e4dff4-b783-4dec-975f-480949f11c22"
      },
      "source": [
        "clf = Perceptron(random_state=241)\n",
        "clf.fit(train_x, train_y)\n",
        "predictions = clf.predict(test_x)\n",
        "\n",
        "score = accuracy_score(test_y, predictions)\n",
        "print(score)"
      ],
      "execution_count": 65,
      "outputs": [
        {
          "output_type": "stream",
          "text": [
            "0.655\n"
          ],
          "name": "stdout"
        }
      ]
    },
    {
      "cell_type": "code",
      "metadata": {
        "id": "rtPaZmhMAWX3",
        "colab_type": "code",
        "colab": {}
      },
      "source": [
        "scaler = StandardScaler()\n",
        "\n",
        "train_x_scaled, test_x_scaled = scaler.fit_transform(train_x), scaler.transform(test_x)"
      ],
      "execution_count": 66,
      "outputs": []
    },
    {
      "cell_type": "code",
      "metadata": {
        "id": "3aWfBE2gArR4",
        "colab_type": "code",
        "colab": {
          "base_uri": "https://localhost:8080/",
          "height": 34
        },
        "outputId": "148108e0-3da0-4c10-ed81-93bffc7d306b"
      },
      "source": [
        "clf = Perceptron()\n",
        "clf.fit(train_x_scaled, train_y)\n",
        "predictions = clf.predict(test_x_scaled)\n",
        "\n",
        "score_scaled = accuracy_score(test_y, predictions)\n",
        "print(score_scaled)"
      ],
      "execution_count": 67,
      "outputs": [
        {
          "output_type": "stream",
          "text": [
            "0.845\n"
          ],
          "name": "stdout"
        }
      ]
    },
    {
      "cell_type": "code",
      "metadata": {
        "id": "OPlCfjDGAxPJ",
        "colab_type": "code",
        "colab": {
          "base_uri": "https://localhost:8080/",
          "height": 34
        },
        "outputId": "56e0e69d-e50f-44dc-cdfe-942d9ae61036"
      },
      "source": [
        "score_scaled - score"
      ],
      "execution_count": 68,
      "outputs": [
        {
          "output_type": "execute_result",
          "data": {
            "text/plain": [
              "0.18999999999999995"
            ]
          },
          "metadata": {
            "tags": []
          },
          "execution_count": 68
        }
      ]
    }
  ]
}