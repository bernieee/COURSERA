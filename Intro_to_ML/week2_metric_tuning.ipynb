{
  "nbformat": 4,
  "nbformat_minor": 0,
  "metadata": {
    "colab": {
      "name": "week2_metric_tuning.ipynb",
      "provenance": [],
      "authorship_tag": "ABX9TyMix8YMSYp0AvQgiZIkvM66",
      "include_colab_link": true
    },
    "kernelspec": {
      "name": "python3",
      "display_name": "Python 3"
    }
  },
  "cells": [
    {
      "cell_type": "markdown",
      "metadata": {
        "id": "view-in-github",
        "colab_type": "text"
      },
      "source": [
        "<a href=\"https://colab.research.google.com/github/bernieee/COURSERA/blob/master/Intro_to_ML/week2_metric_tuning.ipynb\" target=\"_parent\"><img src=\"https://colab.research.google.com/assets/colab-badge.svg\" alt=\"Open In Colab\"/></a>"
      ]
    },
    {
      "cell_type": "code",
      "metadata": {
        "id": "i9mw0txW5eer",
        "colab_type": "code",
        "colab": {}
      },
      "source": [
        "import sklearn.datasets\n",
        "import sklearn.neighbors\n",
        "import numpy as np"
      ],
      "execution_count": 12,
      "outputs": []
    },
    {
      "cell_type": "code",
      "metadata": {
        "id": "m9Q4PXzB7Y9z",
        "colab_type": "code",
        "colab": {}
      },
      "source": [
        "boston_prices = sklearn.datasets.load_boston()"
      ],
      "execution_count": 3,
      "outputs": []
    },
    {
      "cell_type": "code",
      "metadata": {
        "id": "ObARSEK_7yUv",
        "colab_type": "code",
        "colab": {}
      },
      "source": [
        "data = boston_prices['data']\n",
        "target = boston_prices['target']"
      ],
      "execution_count": 6,
      "outputs": []
    },
    {
      "cell_type": "code",
      "metadata": {
        "id": "0j8jRp6875yg",
        "colab_type": "code",
        "colab": {
          "base_uri": "https://localhost:8080/",
          "height": 246
        },
        "outputId": "0a86b776-69fa-4c17-abca-1d53e8c5e7e0"
      },
      "source": [
        "data"
      ],
      "execution_count": 7,
      "outputs": [
        {
          "output_type": "execute_result",
          "data": {
            "text/plain": [
              "array([[6.3200e-03, 1.8000e+01, 2.3100e+00, ..., 1.5300e+01, 3.9690e+02,\n",
              "        4.9800e+00],\n",
              "       [2.7310e-02, 0.0000e+00, 7.0700e+00, ..., 1.7800e+01, 3.9690e+02,\n",
              "        9.1400e+00],\n",
              "       [2.7290e-02, 0.0000e+00, 7.0700e+00, ..., 1.7800e+01, 3.9283e+02,\n",
              "        4.0300e+00],\n",
              "       ...,\n",
              "       [6.0760e-02, 0.0000e+00, 1.1930e+01, ..., 2.1000e+01, 3.9690e+02,\n",
              "        5.6400e+00],\n",
              "       [1.0959e-01, 0.0000e+00, 1.1930e+01, ..., 2.1000e+01, 3.9345e+02,\n",
              "        6.4800e+00],\n",
              "       [4.7410e-02, 0.0000e+00, 1.1930e+01, ..., 2.1000e+01, 3.9690e+02,\n",
              "        7.8800e+00]])"
            ]
          },
          "metadata": {
            "tags": []
          },
          "execution_count": 7
        }
      ]
    },
    {
      "cell_type": "code",
      "metadata": {
        "id": "e6i2QpGp77As",
        "colab_type": "code",
        "colab": {}
      },
      "source": [
        "target"
      ],
      "execution_count": null,
      "outputs": []
    },
    {
      "cell_type": "code",
      "metadata": {
        "id": "wmGJPqof79zJ",
        "colab_type": "code",
        "colab": {}
      },
      "source": [
        "data_scaled = sklearn.preprocessing.scale(data)\n",
        "folds = sklearn.model_selection.KFold(n_splits=5, shuffle=True, random_state=42)\n",
        "\n",
        "p_list = np.linspace(1, 10, num=200)\n",
        "p_list  "
      ],
      "execution_count": null,
      "outputs": []
    },
    {
      "cell_type": "code",
      "metadata": {
        "id": "WE6ww4k88XQS",
        "colab_type": "code",
        "colab": {
          "base_uri": "https://localhost:8080/",
          "height": 52
        },
        "outputId": "09f4bf48-1d67-400b-adca-d40a26e0503f"
      },
      "source": [
        "best_quality = 0.\n",
        "best_p = 0\n",
        "\n",
        "for p in p_list:\n",
        "    regressor = sklearn.neighbors.KNeighborsRegressor(n_neighbors=5, weights='distance', p=p)\n",
        "    score = sklearn.model_selection.cross_val_score(regressor, data_scaled, target, cv=folds)#, scoring='neg_mean_squared_error')\n",
        "\n",
        "    quality = abs(np.mean(score))\n",
        "\n",
        "    if quality > best_quality:\n",
        "        best_quality = quality\n",
        "        best_p = p\n",
        "\n",
        "print(best_quality)\n",
        "print(best_p)"
      ],
      "execution_count": 21,
      "outputs": [
        {
          "output_type": "stream",
          "text": [
            "0.8013825191275472\n",
            "1.0\n"
          ],
          "name": "stdout"
        }
      ]
    }
  ]
}