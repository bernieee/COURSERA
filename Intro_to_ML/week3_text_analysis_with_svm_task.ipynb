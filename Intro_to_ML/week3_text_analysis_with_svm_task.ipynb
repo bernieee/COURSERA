{
  "nbformat": 4,
  "nbformat_minor": 0,
  "metadata": {
    "colab": {
      "name": "week3_text_analysis_with_svm_task.ipynb",
      "provenance": [],
      "collapsed_sections": [],
      "authorship_tag": "ABX9TyNP2zDbK1k37CMfK2dyQnPu",
      "include_colab_link": true
    },
    "kernelspec": {
      "name": "python3",
      "display_name": "Python 3"
    }
  },
  "cells": [
    {
      "cell_type": "markdown",
      "metadata": {
        "id": "view-in-github",
        "colab_type": "text"
      },
      "source": [
        "<a href=\"https://colab.research.google.com/github/bernieee/COURSERA/blob/master/Intro_to_ML/week3_text_analysis_with_svm_task.ipynb\" target=\"_parent\"><img src=\"https://colab.research.google.com/assets/colab-badge.svg\" alt=\"Open In Colab\"/></a>"
      ]
    },
    {
      "cell_type": "code",
      "metadata": {
        "id": "22ksgbJfWNi5",
        "colab_type": "code",
        "colab": {}
      },
      "source": [
        "from sklearn import datasets\n",
        "from  sklearn.feature_extraction.text import TfidfVectorizer\n",
        "from sklearn.svm import SVC\n",
        "from sklearn.model_selection import GridSearchCV, KFold\n",
        "import numpy as np"
      ],
      "execution_count": 15,
      "outputs": []
    },
    {
      "cell_type": "code",
      "metadata": {
        "id": "3TBE7s1Pw5DU",
        "colab_type": "code",
        "colab": {
          "base_uri": "https://localhost:8080/",
          "height": 52
        },
        "outputId": "459686c5-3ca2-4373-958e-9f4734ebfa1b"
      },
      "source": [
        "newgroups = datasets.fetch_20newsgroups(subset='all', categories=['alt.atheism', 'sci.space'])"
      ],
      "execution_count": 3,
      "outputs": [
        {
          "output_type": "stream",
          "text": [
            "Downloading 20news dataset. This may take a few minutes.\n",
            "Downloading dataset from https://ndownloader.figshare.com/files/5975967 (14 MB)\n"
          ],
          "name": "stderr"
        }
      ]
    },
    {
      "cell_type": "code",
      "metadata": {
        "id": "pBmtqECvyEFG",
        "colab_type": "code",
        "colab": {}
      },
      "source": [
        "tfdf = TfidfVectorizer()\n",
        "newgroups_tfdf = tfdf.fit_transform(newgroups.data)"
      ],
      "execution_count": 20,
      "outputs": []
    },
    {
      "cell_type": "code",
      "metadata": {
        "id": "gY9eZ70uy9VN",
        "colab_type": "code",
        "colab": {}
      },
      "source": [
        "grid = {'C': np.power(10.0, np.arange(-5, 6))}\n",
        "cv = KFold(n_splits=5, shuffle=True, random_state=241)\n",
        "\n",
        "clf = SVC(kernel='linear', random_state=241)\n",
        "gs = GridSearchCV(clf, grid, scoring='accuracy', cv=cv)\n",
        "gs.fit(newgroups_tfdf, newgroups.target)\n",
        "\n",
        "best_C = gs.best_params_['C']"
      ],
      "execution_count": 21,
      "outputs": []
    },
    {
      "cell_type": "code",
      "metadata": {
        "id": "SWBKt6Ru4oBP",
        "colab_type": "code",
        "colab": {
          "base_uri": "https://localhost:8080/",
          "height": 34
        },
        "outputId": "b418fd0a-b9a5-4720-b747-bc4d515034b4"
      },
      "source": [
        "print(best_C)"
      ],
      "execution_count": 22,
      "outputs": [
        {
          "output_type": "stream",
          "text": [
            "1.0\n"
          ],
          "name": "stdout"
        }
      ]
    },
    {
      "cell_type": "code",
      "metadata": {
        "id": "hgTfva4W4tLU",
        "colab_type": "code",
        "colab": {
          "base_uri": "https://localhost:8080/",
          "height": 86
        },
        "outputId": "ebecf721-6e0e-483d-e203-43e1458a9784"
      },
      "source": [
        "clf = SVC(C = 1.0, kernel='linear', random_state=241)\n",
        "clf.fit(newgroups_tfdf, newgroups.target)"
      ],
      "execution_count": 23,
      "outputs": [
        {
          "output_type": "execute_result",
          "data": {
            "text/plain": [
              "SVC(C=1.0, break_ties=False, cache_size=200, class_weight=None, coef0=0.0,\n",
              "    decision_function_shape='ovr', degree=3, gamma='scale', kernel='linear',\n",
              "    max_iter=-1, probability=False, random_state=241, shrinking=True, tol=0.001,\n",
              "    verbose=False)"
            ]
          },
          "metadata": {
            "tags": []
          },
          "execution_count": 23
        }
      ]
    },
    {
      "cell_type": "code",
      "metadata": {
        "id": "lr7FRdn85MhJ",
        "colab_type": "code",
        "colab": {
          "base_uri": "https://localhost:8080/",
          "height": 52
        },
        "outputId": "20df719b-78ff-4df4-d254-20591658b82b"
      },
      "source": [
        "weights = np.argsort(abs(clf.coef_.todense().A1))\n",
        "print(weights)\n",
        "\n",
        "names = tfdf.get_feature_names()\n",
        "\n",
        "ans = [names[i] for i in weights][-10:]\n",
        "print(sorted(ans))"
      ],
      "execution_count": 42,
      "outputs": [
        {
          "output_type": "stream",
          "text": [
            "[ 7801 21437  9144 ...  5088 12871 24019]\n",
            "['atheism', 'atheists', 'bible', 'god', 'keith', 'moon', 'religion', 'sci', 'sky', 'space']\n"
          ],
          "name": "stdout"
        }
      ]
    }
  ]
}