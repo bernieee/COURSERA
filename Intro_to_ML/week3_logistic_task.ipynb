{
  "nbformat": 4,
  "nbformat_minor": 0,
  "metadata": {
    "colab": {
      "name": "week3_logistic_task.ipynb",
      "provenance": [],
      "collapsed_sections": [],
      "authorship_tag": "ABX9TyO72nMJv02I3QYGFK80JvTW",
      "include_colab_link": true
    },
    "kernelspec": {
      "name": "python3",
      "display_name": "Python 3"
    }
  },
  "cells": [
    {
      "cell_type": "markdown",
      "metadata": {
        "id": "view-in-github",
        "colab_type": "text"
      },
      "source": [
        "<a href=\"https://colab.research.google.com/github/bernieee/COURSERA/blob/master/Intro_to_ML/week3_logistic_task.ipynb\" target=\"_parent\"><img src=\"https://colab.research.google.com/assets/colab-badge.svg\" alt=\"Open In Colab\"/></a>"
      ]
    },
    {
      "cell_type": "code",
      "metadata": {
        "id": "kEbJCRvAXfuF",
        "colab_type": "code",
        "colab": {}
      },
      "source": [
        "import numpy as np\n",
        "import pandas as pd\n",
        "from sklearn.metrics import roc_auc_score"
      ],
      "execution_count": 124,
      "outputs": []
    },
    {
      "cell_type": "code",
      "metadata": {
        "id": "4xZk6Xr9ZuKI",
        "colab_type": "code",
        "colab": {
          "base_uri": "https://localhost:8080/",
          "height": 404
        },
        "outputId": "4c8efa3a-4061-4d4f-e3bc-4f2e1ffcab53"
      },
      "source": [
        "data_df = pd.read_csv('data-logistic.csv', header=None)\n",
        "data_df"
      ],
      "execution_count": 125,
      "outputs": [
        {
          "output_type": "execute_result",
          "data": {
            "text/html": [
              "<div>\n",
              "<style scoped>\n",
              "    .dataframe tbody tr th:only-of-type {\n",
              "        vertical-align: middle;\n",
              "    }\n",
              "\n",
              "    .dataframe tbody tr th {\n",
              "        vertical-align: top;\n",
              "    }\n",
              "\n",
              "    .dataframe thead th {\n",
              "        text-align: right;\n",
              "    }\n",
              "</style>\n",
              "<table border=\"1\" class=\"dataframe\">\n",
              "  <thead>\n",
              "    <tr style=\"text-align: right;\">\n",
              "      <th></th>\n",
              "      <th>0</th>\n",
              "      <th>1</th>\n",
              "      <th>2</th>\n",
              "    </tr>\n",
              "  </thead>\n",
              "  <tbody>\n",
              "    <tr>\n",
              "      <th>0</th>\n",
              "      <td>-1</td>\n",
              "      <td>-0.663827</td>\n",
              "      <td>-0.138526</td>\n",
              "    </tr>\n",
              "    <tr>\n",
              "      <th>1</th>\n",
              "      <td>1</td>\n",
              "      <td>1.994596</td>\n",
              "      <td>2.468025</td>\n",
              "    </tr>\n",
              "    <tr>\n",
              "      <th>2</th>\n",
              "      <td>-1</td>\n",
              "      <td>-1.247395</td>\n",
              "      <td>0.749425</td>\n",
              "    </tr>\n",
              "    <tr>\n",
              "      <th>3</th>\n",
              "      <td>1</td>\n",
              "      <td>2.309374</td>\n",
              "      <td>1.899836</td>\n",
              "    </tr>\n",
              "    <tr>\n",
              "      <th>4</th>\n",
              "      <td>1</td>\n",
              "      <td>0.849143</td>\n",
              "      <td>2.407750</td>\n",
              "    </tr>\n",
              "    <tr>\n",
              "      <th>...</th>\n",
              "      <td>...</td>\n",
              "      <td>...</td>\n",
              "      <td>...</td>\n",
              "    </tr>\n",
              "    <tr>\n",
              "      <th>200</th>\n",
              "      <td>1</td>\n",
              "      <td>4.245176</td>\n",
              "      <td>3.053931</td>\n",
              "    </tr>\n",
              "    <tr>\n",
              "      <th>201</th>\n",
              "      <td>1</td>\n",
              "      <td>2.437935</td>\n",
              "      <td>1.357804</td>\n",
              "    </tr>\n",
              "    <tr>\n",
              "      <th>202</th>\n",
              "      <td>-1</td>\n",
              "      <td>-1.876638</td>\n",
              "      <td>1.533398</td>\n",
              "    </tr>\n",
              "    <tr>\n",
              "      <th>203</th>\n",
              "      <td>1</td>\n",
              "      <td>-6.824446</td>\n",
              "      <td>-13.934211</td>\n",
              "    </tr>\n",
              "    <tr>\n",
              "      <th>204</th>\n",
              "      <td>-1</td>\n",
              "      <td>0.001805</td>\n",
              "      <td>0.865147</td>\n",
              "    </tr>\n",
              "  </tbody>\n",
              "</table>\n",
              "<p>205 rows × 3 columns</p>\n",
              "</div>"
            ],
            "text/plain": [
              "     0         1          2\n",
              "0   -1 -0.663827  -0.138526\n",
              "1    1  1.994596   2.468025\n",
              "2   -1 -1.247395   0.749425\n",
              "3    1  2.309374   1.899836\n",
              "4    1  0.849143   2.407750\n",
              "..  ..       ...        ...\n",
              "200  1  4.245176   3.053931\n",
              "201  1  2.437935   1.357804\n",
              "202 -1 -1.876638   1.533398\n",
              "203  1 -6.824446 -13.934211\n",
              "204 -1  0.001805   0.865147\n",
              "\n",
              "[205 rows x 3 columns]"
            ]
          },
          "metadata": {
            "tags": []
          },
          "execution_count": 125
        }
      ]
    },
    {
      "cell_type": "code",
      "metadata": {
        "id": "SnJjeN-CaJWR",
        "colab_type": "code",
        "colab": {}
      },
      "source": [
        "classes = np.asarray(data_df[0])\n",
        "features = np.asarray(data_df.drop([0], axis=1))"
      ],
      "execution_count": 188,
      "outputs": []
    },
    {
      "cell_type": "code",
      "metadata": {
        "id": "ag3kwo7NfuJw",
        "colab_type": "code",
        "colab": {}
      },
      "source": [
        "def sigmoid(x):\n",
        "    return 1. / (1. + np.exp(-x))\n",
        "\n",
        "def euclid_dist(a, b):\n",
        "    return np.sqrt(np.square(a[0] - b[0]) + np.square(a[1] - b[1]))\n",
        "\n",
        "def gradient_decent(x, y, w, k, C, N, eps):\n",
        "    #w_new = np.asarray([0., 0.])\n",
        "    for i in range(N):\n",
        "        #w_new[0] = w[0] + k * np.mean(x[:, 0].T * y * (1 - sigmoid(y * np.dot(x, w)))) - k * C * w[0]\n",
        "        #w_new[1] = w[1] + k * np.mean(x[:, 1].T * y * (1 - sigmoid(y * np.dot(x, w)))) - k * C * w[1]\n",
        "\n",
        "        w_new = w + k * np.mean(x.T * y * (1 - sigmoid(y * np.dot(x, w))), axis=1) - k * C * w\n",
        "\n",
        "        #print(i, w, w_new)\n",
        "        if euclid_dist(w, w_new) < eps:\n",
        "            break\n",
        "\n",
        "        w = w_new\n",
        "              \n",
        "    return w_new\n",
        "\n",
        "def log_reg(x, w):\n",
        "    return sigmoid(np.dot(x, w))"
      ],
      "execution_count": 261,
      "outputs": []
    },
    {
      "cell_type": "code",
      "metadata": {
        "id": "FbeecRhXjPEO",
        "colab_type": "code",
        "colab": {
          "base_uri": "https://localhost:8080/",
          "height": 52
        },
        "outputId": "1b79c8a6-c6f0-45a1-cd5a-0b1ca6010914"
      },
      "source": [
        "weights = gradient_decent(features, classes, np.asarray([0.0, 0.0]), 0.1, 10, 10000, 1e-5)\n",
        "prediction = log_reg(features, weights)\n",
        "\n",
        "print(weights)\n",
        "\n",
        "score = roc_auc_score(classes, prediction)\n",
        "score"
      ],
      "execution_count": 262,
      "outputs": [
        {
          "output_type": "stream",
          "text": [
            "[0.02855875 0.02478014]\n"
          ],
          "name": "stdout"
        },
        {
          "output_type": "execute_result",
          "data": {
            "text/plain": [
              "0.9362857142857142"
            ]
          },
          "metadata": {
            "tags": []
          },
          "execution_count": 262
        }
      ]
    },
    {
      "cell_type": "code",
      "metadata": {
        "id": "UuELhwWWcg9p",
        "colab_type": "code",
        "colab": {
          "base_uri": "https://localhost:8080/",
          "height": 52
        },
        "outputId": "05ef1159-4a9e-4508-c5dc-b95a866390e8"
      },
      "source": [
        "weights = gradient_decent(features, classes, np.asarray([0.0, 0.0]), 0.1, 0, 10000, 1e-5)\n",
        "prediction = log_reg(features, weights)\n",
        "\n",
        "print(weights)\n",
        "\n",
        "score_0 = roc_auc_score(classes, prediction)\n",
        "score_0"
      ],
      "execution_count": 263,
      "outputs": [
        {
          "output_type": "stream",
          "text": [
            "[0.28781162 0.0919833 ]\n"
          ],
          "name": "stdout"
        },
        {
          "output_type": "execute_result",
          "data": {
            "text/plain": [
              "0.9268571428571428"
            ]
          },
          "metadata": {
            "tags": []
          },
          "execution_count": 263
        }
      ]
    }
  ]
}