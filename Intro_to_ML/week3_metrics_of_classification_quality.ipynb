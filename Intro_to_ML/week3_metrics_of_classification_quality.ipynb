{
  "nbformat": 4,
  "nbformat_minor": 0,
  "metadata": {
    "colab": {
      "name": "week3_metrics_of_classification_quality.ipynb",
      "provenance": [],
      "collapsed_sections": [],
      "authorship_tag": "ABX9TyPN3G9fgUxAy+TGluNAF1a7",
      "include_colab_link": true
    },
    "kernelspec": {
      "name": "python3",
      "display_name": "Python 3"
    }
  },
  "cells": [
    {
      "cell_type": "markdown",
      "metadata": {
        "id": "view-in-github",
        "colab_type": "text"
      },
      "source": [
        "<a href=\"https://colab.research.google.com/github/bernieee/COURSERA/blob/master/Intro_to_ML/week3_metrics_of_classification_quality.ipynb\" target=\"_parent\"><img src=\"https://colab.research.google.com/assets/colab-badge.svg\" alt=\"Open In Colab\"/></a>"
      ]
    },
    {
      "cell_type": "code",
      "metadata": {
        "id": "s90xwd7xtR1z",
        "colab_type": "code",
        "colab": {}
      },
      "source": [
        "import pandas as pd\n",
        "import numpy as np\n",
        "from sklearn.metrics import accuracy_score, recall_score, f1_score, precision_score, roc_auc_score, precision_recall_curve"
      ],
      "execution_count": 47,
      "outputs": []
    },
    {
      "cell_type": "code",
      "metadata": {
        "id": "XiIcyg4mYKCy",
        "colab_type": "code",
        "colab": {
          "base_uri": "https://localhost:8080/",
          "height": 404
        },
        "outputId": "ee08f750-d517-4c08-89db-ce6de0b05a83"
      },
      "source": [
        "clf_df = pd.read_csv('classification.csv')\n",
        "clf_df"
      ],
      "execution_count": 4,
      "outputs": [
        {
          "output_type": "execute_result",
          "data": {
            "text/html": [
              "<div>\n",
              "<style scoped>\n",
              "    .dataframe tbody tr th:only-of-type {\n",
              "        vertical-align: middle;\n",
              "    }\n",
              "\n",
              "    .dataframe tbody tr th {\n",
              "        vertical-align: top;\n",
              "    }\n",
              "\n",
              "    .dataframe thead th {\n",
              "        text-align: right;\n",
              "    }\n",
              "</style>\n",
              "<table border=\"1\" class=\"dataframe\">\n",
              "  <thead>\n",
              "    <tr style=\"text-align: right;\">\n",
              "      <th></th>\n",
              "      <th>true</th>\n",
              "      <th>pred</th>\n",
              "    </tr>\n",
              "  </thead>\n",
              "  <tbody>\n",
              "    <tr>\n",
              "      <th>0</th>\n",
              "      <td>1</td>\n",
              "      <td>0</td>\n",
              "    </tr>\n",
              "    <tr>\n",
              "      <th>1</th>\n",
              "      <td>1</td>\n",
              "      <td>1</td>\n",
              "    </tr>\n",
              "    <tr>\n",
              "      <th>2</th>\n",
              "      <td>1</td>\n",
              "      <td>1</td>\n",
              "    </tr>\n",
              "    <tr>\n",
              "      <th>3</th>\n",
              "      <td>0</td>\n",
              "      <td>0</td>\n",
              "    </tr>\n",
              "    <tr>\n",
              "      <th>4</th>\n",
              "      <td>1</td>\n",
              "      <td>1</td>\n",
              "    </tr>\n",
              "    <tr>\n",
              "      <th>...</th>\n",
              "      <td>...</td>\n",
              "      <td>...</td>\n",
              "    </tr>\n",
              "    <tr>\n",
              "      <th>195</th>\n",
              "      <td>0</td>\n",
              "      <td>0</td>\n",
              "    </tr>\n",
              "    <tr>\n",
              "      <th>196</th>\n",
              "      <td>0</td>\n",
              "      <td>0</td>\n",
              "    </tr>\n",
              "    <tr>\n",
              "      <th>197</th>\n",
              "      <td>1</td>\n",
              "      <td>0</td>\n",
              "    </tr>\n",
              "    <tr>\n",
              "      <th>198</th>\n",
              "      <td>0</td>\n",
              "      <td>1</td>\n",
              "    </tr>\n",
              "    <tr>\n",
              "      <th>199</th>\n",
              "      <td>0</td>\n",
              "      <td>0</td>\n",
              "    </tr>\n",
              "  </tbody>\n",
              "</table>\n",
              "<p>200 rows × 2 columns</p>\n",
              "</div>"
            ],
            "text/plain": [
              "     true  pred\n",
              "0       1     0\n",
              "1       1     1\n",
              "2       1     1\n",
              "3       0     0\n",
              "4       1     1\n",
              "..    ...   ...\n",
              "195     0     0\n",
              "196     0     0\n",
              "197     1     0\n",
              "198     0     1\n",
              "199     0     0\n",
              "\n",
              "[200 rows x 2 columns]"
            ]
          },
          "metadata": {
            "tags": []
          },
          "execution_count": 4
        }
      ]
    },
    {
      "cell_type": "code",
      "metadata": {
        "id": "bdQnbBCoZRLN",
        "colab_type": "code",
        "colab": {
          "base_uri": "https://localhost:8080/",
          "height": 52
        },
        "outputId": "77f95206-4bbd-46ea-8515-2626f677b4f0"
      },
      "source": [
        "clf_df[(clf_df['true'] == 1) & (clf_df['pred'] == 1)]['true'].value_counts()"
      ],
      "execution_count": 26,
      "outputs": [
        {
          "output_type": "execute_result",
          "data": {
            "text/plain": [
              "1    43\n",
              "Name: true, dtype: int64"
            ]
          },
          "metadata": {
            "tags": []
          },
          "execution_count": 26
        }
      ]
    },
    {
      "cell_type": "code",
      "metadata": {
        "id": "v_P1pe8iYZ9j",
        "colab_type": "code",
        "colab": {
          "base_uri": "https://localhost:8080/",
          "height": 34
        },
        "outputId": "4cd5fa6c-a7a0-4ddb-9b8f-29047c18fd78"
      },
      "source": [
        "TP = int(clf_df[(clf_df['true'] == 1) & (clf_df['pred'] == 1)]['true'].value_counts())\n",
        "TN = int(clf_df[(clf_df['true'] == 0) & (clf_df['pred'] == 0)]['true'].value_counts())\n",
        "FP = int(clf_df[(clf_df['true'] == 0) & (clf_df['pred'] == 1)]['true'].value_counts())\n",
        "FN = int(clf_df[(clf_df['true'] == 1) & (clf_df['pred'] == 0)]['true'].value_counts())\n",
        "\n",
        "print(TP, FP, FN, TN)"
      ],
      "execution_count": 37,
      "outputs": [
        {
          "output_type": "stream",
          "text": [
            "43 34 59 64\n"
          ],
          "name": "stdout"
        }
      ]
    },
    {
      "cell_type": "code",
      "metadata": {
        "id": "dxWIXzdmclUj",
        "colab_type": "code",
        "colab": {}
      },
      "source": [
        "true = np.array(clf_df['true'])\n",
        "pred = np.array(clf_df['pred'])"
      ],
      "execution_count": 31,
      "outputs": []
    },
    {
      "cell_type": "code",
      "metadata": {
        "id": "6tOKnUUCZF4k",
        "colab_type": "code",
        "colab": {
          "base_uri": "https://localhost:8080/",
          "height": 34
        },
        "outputId": "4daec852-312d-4b66-f568-b9eaa1e79215"
      },
      "source": [
        "accuracy = accuracy_score(true, pred)\n",
        "precision = precision_score(true, pred)\n",
        "recall = recall_score(true, pred)\n",
        "f1 = f1_score(true, pred)\n",
        "\n",
        "print(accuracy, precision, recall, f1)"
      ],
      "execution_count": 38,
      "outputs": [
        {
          "output_type": "stream",
          "text": [
            "0.535 0.5584415584415584 0.4215686274509804 0.48044692737430167\n"
          ],
          "name": "stdout"
        }
      ]
    },
    {
      "cell_type": "code",
      "metadata": {
        "id": "-EWe-0X_dft9",
        "colab_type": "code",
        "colab": {
          "base_uri": "https://localhost:8080/",
          "height": 404
        },
        "outputId": "e4784eed-990e-4027-c059-d194780cca93"
      },
      "source": [
        "score_df = pd.read_csv('scores.csv')\n",
        "score_df"
      ],
      "execution_count": 41,
      "outputs": [
        {
          "output_type": "execute_result",
          "data": {
            "text/html": [
              "<div>\n",
              "<style scoped>\n",
              "    .dataframe tbody tr th:only-of-type {\n",
              "        vertical-align: middle;\n",
              "    }\n",
              "\n",
              "    .dataframe tbody tr th {\n",
              "        vertical-align: top;\n",
              "    }\n",
              "\n",
              "    .dataframe thead th {\n",
              "        text-align: right;\n",
              "    }\n",
              "</style>\n",
              "<table border=\"1\" class=\"dataframe\">\n",
              "  <thead>\n",
              "    <tr style=\"text-align: right;\">\n",
              "      <th></th>\n",
              "      <th>true</th>\n",
              "      <th>score_logreg</th>\n",
              "      <th>score_svm</th>\n",
              "      <th>score_knn</th>\n",
              "      <th>score_tree</th>\n",
              "    </tr>\n",
              "  </thead>\n",
              "  <tbody>\n",
              "    <tr>\n",
              "      <th>0</th>\n",
              "      <td>0</td>\n",
              "      <td>0.683832</td>\n",
              "      <td>0.145976</td>\n",
              "      <td>0.787063</td>\n",
              "      <td>0.500000</td>\n",
              "    </tr>\n",
              "    <tr>\n",
              "      <th>1</th>\n",
              "      <td>1</td>\n",
              "      <td>0.801966</td>\n",
              "      <td>0.239511</td>\n",
              "      <td>1.000000</td>\n",
              "      <td>0.833333</td>\n",
              "    </tr>\n",
              "    <tr>\n",
              "      <th>2</th>\n",
              "      <td>0</td>\n",
              "      <td>0.382315</td>\n",
              "      <td>-0.245701</td>\n",
              "      <td>0.000000</td>\n",
              "      <td>0.000000</td>\n",
              "    </tr>\n",
              "    <tr>\n",
              "      <th>3</th>\n",
              "      <td>1</td>\n",
              "      <td>0.506797</td>\n",
              "      <td>-0.137058</td>\n",
              "      <td>0.000000</td>\n",
              "      <td>0.105263</td>\n",
              "    </tr>\n",
              "    <tr>\n",
              "      <th>4</th>\n",
              "      <td>1</td>\n",
              "      <td>0.488781</td>\n",
              "      <td>-0.154148</td>\n",
              "      <td>0.000000</td>\n",
              "      <td>0.105263</td>\n",
              "    </tr>\n",
              "    <tr>\n",
              "      <th>...</th>\n",
              "      <td>...</td>\n",
              "      <td>...</td>\n",
              "      <td>...</td>\n",
              "      <td>...</td>\n",
              "      <td>...</td>\n",
              "    </tr>\n",
              "    <tr>\n",
              "      <th>195</th>\n",
              "      <td>0</td>\n",
              "      <td>0.573801</td>\n",
              "      <td>-0.088203</td>\n",
              "      <td>0.284192</td>\n",
              "      <td>0.400000</td>\n",
              "    </tr>\n",
              "    <tr>\n",
              "      <th>196</th>\n",
              "      <td>0</td>\n",
              "      <td>0.624422</td>\n",
              "      <td>-0.012315</td>\n",
              "      <td>0.205437</td>\n",
              "      <td>0.400000</td>\n",
              "    </tr>\n",
              "    <tr>\n",
              "      <th>197</th>\n",
              "      <td>1</td>\n",
              "      <td>0.425538</td>\n",
              "      <td>-0.135673</td>\n",
              "      <td>0.382351</td>\n",
              "      <td>0.700000</td>\n",
              "    </tr>\n",
              "    <tr>\n",
              "      <th>198</th>\n",
              "      <td>0</td>\n",
              "      <td>0.905270</td>\n",
              "      <td>0.583806</td>\n",
              "      <td>1.000000</td>\n",
              "      <td>1.000000</td>\n",
              "    </tr>\n",
              "    <tr>\n",
              "      <th>199</th>\n",
              "      <td>0</td>\n",
              "      <td>0.275594</td>\n",
              "      <td>-0.422160</td>\n",
              "      <td>0.743567</td>\n",
              "      <td>0.642857</td>\n",
              "    </tr>\n",
              "  </tbody>\n",
              "</table>\n",
              "<p>200 rows × 5 columns</p>\n",
              "</div>"
            ],
            "text/plain": [
              "     true  score_logreg  score_svm  score_knn  score_tree\n",
              "0       0      0.683832   0.145976   0.787063    0.500000\n",
              "1       1      0.801966   0.239511   1.000000    0.833333\n",
              "2       0      0.382315  -0.245701   0.000000    0.000000\n",
              "3       1      0.506797  -0.137058   0.000000    0.105263\n",
              "4       1      0.488781  -0.154148   0.000000    0.105263\n",
              "..    ...           ...        ...        ...         ...\n",
              "195     0      0.573801  -0.088203   0.284192    0.400000\n",
              "196     0      0.624422  -0.012315   0.205437    0.400000\n",
              "197     1      0.425538  -0.135673   0.382351    0.700000\n",
              "198     0      0.905270   0.583806   1.000000    1.000000\n",
              "199     0      0.275594  -0.422160   0.743567    0.642857\n",
              "\n",
              "[200 rows x 5 columns]"
            ]
          },
          "metadata": {
            "tags": []
          },
          "execution_count": 41
        }
      ]
    },
    {
      "cell_type": "code",
      "metadata": {
        "id": "KhmviV1geE3m",
        "colab_type": "code",
        "colab": {}
      },
      "source": [
        "true = np.array(score_df['true'])\n",
        "logreg_pred = np.array(score_df['score_logreg'])\n",
        "svm_pred = np.array(score_df['score_svm'])\n",
        "knn_pred = np.array(score_df['score_knn'])\n",
        "tree_pred = np.array(score_df['score_tree'])"
      ],
      "execution_count": 43,
      "outputs": []
    },
    {
      "cell_type": "code",
      "metadata": {
        "id": "rSYpolhyd6pt",
        "colab_type": "code",
        "colab": {
          "base_uri": "https://localhost:8080/",
          "height": 34
        },
        "outputId": "443780fe-c5d7-40df-da7a-45ca0f12a5d8"
      },
      "source": [
        "logreg = roc_auc_score(true, logreg_pred)\n",
        "svm = roc_auc_score(true, svm_pred)\n",
        "knn = roc_auc_score(true, knn_pred)\n",
        "tree = roc_auc_score(true, tree_pred)\n",
        "\n",
        "print(logreg, svm, knn, tree) # logreg_score"
      ],
      "execution_count": 46,
      "outputs": [
        {
          "output_type": "stream",
          "text": [
            "0.719187675070028 0.7086834733893557 0.6351540616246498 0.6919267707082833\n"
          ],
          "name": "stdout"
        }
      ]
    },
    {
      "cell_type": "code",
      "metadata": {
        "id": "RxGJuIZwe4Ws",
        "colab_type": "code",
        "colab": {
          "base_uri": "https://localhost:8080/",
          "height": 34
        },
        "outputId": "9d1225ab-56f9-48c8-e895-0f4abe11d3b2"
      },
      "source": [
        "logreg = precision_recall_curve(true, logreg_pred)\n",
        "logreg_max_precision = max(logreg[0][logreg[1]>=0.7])\n",
        "\n",
        "print(logreg_max_precision)"
      ],
      "execution_count": 51,
      "outputs": [
        {
          "output_type": "stream",
          "text": [
            "0.6302521008403361\n"
          ],
          "name": "stdout"
        }
      ]
    },
    {
      "cell_type": "code",
      "metadata": {
        "id": "ZR0cEQuIl_Zr",
        "colab_type": "code",
        "colab": {
          "base_uri": "https://localhost:8080/",
          "height": 34
        },
        "outputId": "37ce346b-9fc1-4343-e053-31a79ee9c071"
      },
      "source": [
        "svm = precision_recall_curve(true, svm_pred)\n",
        "svm_max_precision = max(svm[0][svm[1]>=0.7])\n",
        "\n",
        "print(svm_max_precision)"
      ],
      "execution_count": 52,
      "outputs": [
        {
          "output_type": "stream",
          "text": [
            "0.6228070175438597\n"
          ],
          "name": "stdout"
        }
      ]
    },
    {
      "cell_type": "code",
      "metadata": {
        "id": "tT6s3m1UmNhG",
        "colab_type": "code",
        "colab": {
          "base_uri": "https://localhost:8080/",
          "height": 34
        },
        "outputId": "39f80c14-8226-4637-81bc-ddc6fea7be77"
      },
      "source": [
        "knn = precision_recall_curve(true, knn_pred)\n",
        "knn_max_precision = max(knn[0][knn[1]>=0.7])\n",
        "\n",
        "print(knn_max_precision)"
      ],
      "execution_count": 54,
      "outputs": [
        {
          "output_type": "stream",
          "text": [
            "0.6065573770491803\n"
          ],
          "name": "stdout"
        }
      ]
    },
    {
      "cell_type": "code",
      "metadata": {
        "id": "AYEl62kwmONz",
        "colab_type": "code",
        "colab": {
          "base_uri": "https://localhost:8080/",
          "height": 34
        },
        "outputId": "fbdff921-0faa-4786-a0e2-40e1ab153c8c"
      },
      "source": [
        "tree = precision_recall_curve(true, tree_pred)\n",
        "tree_max_precision = max(tree[0][tree[1]>=0.7])\n",
        "\n",
        "print(tree_max_precision) # tree_score"
      ],
      "execution_count": 55,
      "outputs": [
        {
          "output_type": "stream",
          "text": [
            "0.6517857142857143\n"
          ],
          "name": "stdout"
        }
      ]
    }
  ]
}